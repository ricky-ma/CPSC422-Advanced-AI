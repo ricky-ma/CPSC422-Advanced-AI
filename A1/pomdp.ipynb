{
  "nbformat": 4,
  "nbformat_minor": 0,
  "metadata": {
    "colab": {
      "name": "422 assignment1 q3",
      "provenance": [],
      "collapsed_sections": [],
      "toc_visible": true
    },
    "kernelspec": {
      "name": "python3",
      "display_name": "Python 3"
    }
  },
  "cells": [
    {
      "cell_type": "code",
      "metadata": {
        "id": "B-ypurU7Iznb"
      },
      "source": [
        "#To export to Word/google doc, first export notebook as python, then use this tool to generate copieable syntax highlighted code: http://www.planetb.ca/syntax-highlight-word\r\n",
        "import numpy as np\r\n",
        "from enum import Enum"
      ],
      "execution_count": null,
      "outputs": []
    },
    {
      "cell_type": "code",
      "metadata": {
        "id": "gScgBrsfQDDd"
      },
      "source": [
        "#constants\r\n",
        "num_rows = 3\r\n",
        "num_cols = 4\r\n",
        "prob_going_in_correct_dir = 0.8\r\n",
        "prob_moving_at_right_angles_of_intended_direction = 0.1\r\n",
        "terminal_states = [(4,2),(4,3)]\r\n",
        "empty_states = [(2,2)]\r\n",
        "class Walls(Enum):\r\n",
        "   ONE = 1\r\n",
        "   TWO = 2\r\n",
        "   END = 3\r\n",
        "\r\n",
        "class Actions(Enum):\r\n",
        "   UP = 1\r\n",
        "   DOWN = 2\r\n",
        "   LEFT = 3\r\n",
        "   RIGHT = 4"
      ],
      "execution_count": null,
      "outputs": []
    },
    {
      "cell_type": "code",
      "metadata": {
        "id": "gdVBoFCfsnqH"
      },
      "source": [
        "#returns the element in grid that is a np array when given col and row coordinates given in lecture\r\n",
        "def getGridElement(grid,col,row):\r\n",
        "  return grid[(len(grid) - row,col-1)]\r\n",
        "\r\n",
        "def updateGridElement(grid,col,row,value):\r\n",
        "  grid[(len(grid) - row,col-1)] = value"
      ],
      "execution_count": null,
      "outputs": []
    },
    {
      "cell_type": "code",
      "metadata": {
        "id": "UL28oE65iD36"
      },
      "source": [
        "def isValid(state):\r\n",
        "  col,row = state\r\n",
        "  if col<=0 or col >num_cols or row<=0 or row>num_rows:\r\n",
        "    return False\r\n",
        "  if state in empty_states:\r\n",
        "    return False\r\n",
        "  return True\r\n",
        "\r\n",
        "def get_left_right_up_down_neighbors(state):\r\n",
        "  col,row = state\r\n",
        "  return [(col-1,row),(col+1,row),(col,row+1),(col,row-1)]\r\n",
        "\r\n",
        "def get_num_walls_around_state(state):\r\n",
        "  num_walls = 0\r\n",
        "  for neighbor in get_left_right_up_down_neighbors(state):\r\n",
        "    if not isValid(neighbor):\r\n",
        "      num_walls+=1\r\n",
        "  return num_walls"
      ],
      "execution_count": null,
      "outputs": []
    },
    {
      "cell_type": "code",
      "metadata": {
        "id": "Mu3rB60khBk3"
      },
      "source": [
        "def get_prob_s_prime_given_a_s(s_prime, a, s):\r\n",
        "  if (s in get_left_right_up_down_neighbors(s_prime) or s == s_prime) and isValid(s) and (s not in terminal_states):\r\n",
        "    left_neighbor,right_neighbor,up_neighbor,down_neighbor = get_left_right_up_down_neighbors(s_prime)\r\n",
        "\r\n",
        "    if a==Actions.UP:\r\n",
        "      if s==left_neighbor or  s==right_neighbor:\r\n",
        "        return prob_moving_at_right_angles_of_intended_direction\r\n",
        "      elif s==down_neighbor:\r\n",
        "        return prob_going_in_correct_dir\r\n",
        "      elif s == s_prime:\r\n",
        "        prob = 0\r\n",
        "        if not isValid((s[0],s[1]+1)):\r\n",
        "          prob+=prob_going_in_correct_dir\r\n",
        "        if not isValid((s[0]-1,s[1])):\r\n",
        "          prob+=prob_moving_at_right_angles_of_intended_direction\r\n",
        "        if not isValid((s[0]+1,s[1])):\r\n",
        "          prob+=prob_moving_at_right_angles_of_intended_direction\r\n",
        "        return prob\r\n",
        "      else:\r\n",
        "        return 0\r\n",
        "    \r\n",
        "    if a==Actions.DOWN:\r\n",
        "      if s==left_neighbor or  s==right_neighbor:\r\n",
        "        return prob_moving_at_right_angles_of_intended_direction\r\n",
        "      elif s==up_neighbor:\r\n",
        "        return prob_going_in_correct_dir\r\n",
        "      elif s == s_prime:\r\n",
        "        prob = 0\r\n",
        "        if not isValid((s[0],s[1]-1)):\r\n",
        "          prob+=prob_going_in_correct_dir\r\n",
        "        if not isValid((s[0]-1,s[1])):\r\n",
        "          prob+=prob_moving_at_right_angles_of_intended_direction\r\n",
        "        if not isValid((s[0]+1,s[1])):\r\n",
        "          prob+=prob_moving_at_right_angles_of_intended_direction\r\n",
        "        return prob\r\n",
        "      else:\r\n",
        "        return 0\r\n",
        "\r\n",
        "    if a==Actions.LEFT:\r\n",
        "      if s==up_neighbor or  s==down_neighbor:\r\n",
        "        return prob_moving_at_right_angles_of_intended_direction\r\n",
        "      elif s==right_neighbor:\r\n",
        "        return prob_going_in_correct_dir\r\n",
        "      elif s == s_prime:\r\n",
        "        prob = 0\r\n",
        "        if not isValid((s[0]-1,s[1])):\r\n",
        "          prob+=prob_going_in_correct_dir\r\n",
        "        if not isValid((s[0],s[1]+1)):\r\n",
        "          prob+=prob_moving_at_right_angles_of_intended_direction\r\n",
        "        if not isValid((s[0]+1,s[1]-1)):\r\n",
        "          prob+=prob_moving_at_right_angles_of_intended_direction\r\n",
        "        return prob\r\n",
        "      else:\r\n",
        "        return 0\r\n",
        "\r\n",
        "    if a==Actions.RIGHT:\r\n",
        "      if s==up_neighbor or  s==down_neighbor:\r\n",
        "        return prob_moving_at_right_angles_of_intended_direction\r\n",
        "      elif s==left_neighbor:\r\n",
        "        return prob_going_in_correct_dir\r\n",
        "      elif s == s_prime:\r\n",
        "        prob = 0\r\n",
        "        if not isValid((s[0]+1,s[1])):\r\n",
        "          prob+=prob_going_in_correct_dir\r\n",
        "        if not isValid((s[0],s[1]+1)):\r\n",
        "          prob+=prob_moving_at_right_angles_of_intended_direction\r\n",
        "        if not isValid((s[0]+1,s[1]-1)):\r\n",
        "          prob+=prob_moving_at_right_angles_of_intended_direction\r\n",
        "        return prob\r\n",
        "      else:\r\n",
        "        return 0\r\n",
        "  else:\r\n",
        "    return 0\r\n",
        "\r\n"
      ],
      "execution_count": null,
      "outputs": []
    },
    {
      "cell_type": "code",
      "metadata": {
        "id": "WqZF9r4UcVUL"
      },
      "source": [
        "def get_prob_e_given_s_prime(e,s_prime):\r\n",
        "  col,row = s_prime \r\n",
        "  #terminal \r\n",
        "  if s_prime == (4,3) or s_prime == (4,2):\r\n",
        "    if e == Walls.END:\r\n",
        "      return 1\r\n",
        "    else:\r\n",
        "      return 0\r\n",
        "  \r\n",
        "  #non terminal in third column\r\n",
        "  if col ==3:\r\n",
        "    if e==Walls.ONE:\r\n",
        "      return 0.9\r\n",
        "    elif e==Walls.TWO:\r\n",
        "      return 0.1\r\n",
        "    elif e==Walls.END:\r\n",
        "      return 0\r\n",
        "  \r\n",
        "  # all other columns\r\n",
        "  if e==Walls.ONE:\r\n",
        "    return 0.1\r\n",
        "  elif e==Walls.TWO:\r\n",
        "    return 0.9\r\n",
        "  elif e==Walls.END:\r\n",
        "    return 0"
      ],
      "execution_count": null,
      "outputs": []
    },
    {
      "cell_type": "code",
      "metadata": {
        "id": "6R_8KOhcbXAB"
      },
      "source": [
        "def updateSingleBeliefState(b_s,a,e):\r\n",
        "  new_b_s = b_s.copy()\r\n",
        "  \r\n",
        "  for row in range(1, len(new_b_s)+1):\r\n",
        "    for col in range(1, len(new_b_s[0])+1):\r\n",
        "      if isValid((col,row)):\r\n",
        "        sum_term = 0\r\n",
        "        for neighbor in get_left_right_up_down_neighbors((col,row)) + [(col,row)]:\r\n",
        "          if isValid(neighbor):\r\n",
        "            sum_term += get_prob_s_prime_given_a_s((col,row), a, neighbor) * getGridElement(b_s,neighbor[0],neighbor[1])\r\n",
        "        \r\n",
        "        updateGridElement(new_b_s,col,row, get_prob_e_given_s_prime(e,(col,row))*sum_term)\r\n",
        "  \r\n",
        "  #return new_b_s #temp for testing to delete\r\n",
        "  return new_b_s/(sum(sum(new_b_s))).copy()\r\n",
        "\r\n"
      ],
      "execution_count": null,
      "outputs": []
    },
    {
      "cell_type": "code",
      "metadata": {
        "id": "dWNCB7TxONRP"
      },
      "source": [
        "def updateBeliefState(b_s,a1_n,e1_n):\r\n",
        "  for a,e in zip(a1_n,e1_n):\r\n",
        "    print(b_s)\r\n",
        "    print(\"\\n\")\r\n",
        "    b_s = updateSingleBeliefState(b_s,a,e)\r\n",
        "  return (b_s)"
      ],
      "execution_count": null,
      "outputs": []
    },
    {
      "cell_type": "markdown",
      "metadata": {
        "id": "2XC8Mc4o94xl"
      },
      "source": [
        "### Tests"
      ]
    },
    {
      "cell_type": "code",
      "metadata": {
        "id": "CHMVLHSp9GbR"
      },
      "source": [
        "def get_uniform_belief_state_on_non_terminal_states():\n",
        "  b_s = np.zeros((3,4))\n",
        "  for row in range(1, len(b_s)+1):\n",
        "    for col in range(1, len(b_s[0])+1):\n",
        "      if isValid((col,row)) and (col,row) not in terminal_states:\n",
        "        updateGridElement(b_s,col,row, 1)\n",
        "\n",
        "  b_s = b_s/(sum(sum(b_s)))\n",
        "  return b_s\n"
      ],
      "execution_count": null,
      "outputs": []
    },
    {
      "cell_type": "code",
      "metadata": {
        "id": "V86LjbZ897eq"
      },
      "source": [
        "# (up, up , up) (2,2,2)\n",
        "b_s = get_uniform_belief_state_on_non_terminal_states()\n",
        "a1_n = (Actions.UP, Actions.UP, Actions.UP)\n",
        "e1_n = (Walls.TWO,Walls.TWO,Walls.TWO)\n",
        "res = updateBeliefState(b_s,a1_n,e1_n)\n",
        "print(res)"
      ],
      "execution_count": null,
      "outputs": []
    },
    {
      "cell_type": "code",
      "metadata": {
        "id": "e4RfyeDg-QRn"
      },
      "source": [
        "#(up, up, up) (1,1,1)\n",
        "b_s = get_uniform_belief_state_on_non_terminal_states()\n",
        "a1_n = (Actions.UP, Actions.UP, Actions.UP)\n",
        "e1_n = (Walls.ONE,Walls.ONE,Walls.ONE)\n",
        "res = updateBeliefState(b_s,a1_n,e1_n)\n",
        "print(res)"
      ],
      "execution_count": null,
      "outputs": []
    },
    {
      "cell_type": "code",
      "metadata": {
        "id": "evl28SQsyOJ9"
      },
      "source": [
        "#(right, right, up) (1,1,end) with S0 = (2,3)\r\n",
        "b_s = np.zeros((3,4))\r\n",
        "b_s[(0,1)] = 1\r\n",
        "a1_n = (Actions.RIGHT, Actions.RIGHT, Actions.UP)\r\n",
        "e1_n = (Walls.ONE,Walls.ONE,Walls.END)\r\n",
        "res = updateBeliefState(b_s,a1_n,e1_n)\r\n",
        "print(res)\r\n",
        "print(\"Output makes sense as we look at the breakdown of each step.\")"
      ],
      "execution_count": null,
      "outputs": []
    },
    {
      "cell_type": "code",
      "metadata": {
        "id": "WLn141tH2ArC"
      },
      "source": [
        "#(up, right, right, right) (2,2,1,1) with S0 = (1,1)\r\n",
        "b_s = np.zeros((3,4))\r\n",
        "b_s[(2,0)] = 1\r\n",
        "a1_n = (Actions.UP, Actions.RIGHT, Actions.RIGHT,Actions.RIGHT)\r\n",
        "e1_n = (Walls.TWO,Walls.TWO,Walls.ONE,Walls.ONE)\r\n",
        "res = updateBeliefState(b_s,a1_n,e1_n)\r\n",
        "print(res)"
      ],
      "execution_count": null,
      "outputs": []
    },
    {
      "cell_type": "code",
      "metadata": {
        "id": "l3n2QmHZPQJv"
      },
      "source": [
        "import unittest\r\n",
        "print(\"d\")\r\n",
        "class TestNotebook(unittest.TestCase):\r\n",
        "\r\n",
        "  def test_getGridElement(self):\r\n",
        "    grid = np.array([[1,2,3],[4,5,6]])\r\n",
        "    self.assertEqual(getGridElement(grid,1,1),4)\r\n",
        "    self.assertEqual(getGridElement(grid,1,2),1)\r\n",
        "    self.assertEqual(getGridElement(grid,2,1),5)\r\n",
        "    self.assertEqual(getGridElement(grid,3,2),3)\r\n",
        "\r\n",
        "  def test_get_prob_e_given_s_prime(self):\r\n",
        "    self.assertEqual(get_prob_e_given_s_prime(Walls.ONE,(1,1)), 0.1)\r\n",
        "    self.assertEqual(get_prob_e_given_s_prime(Walls.TWO,(1,1)), 0.9)\r\n",
        "    self.assertEqual(get_prob_e_given_s_prime(Walls.ONE,(3,1)), 0.9)\r\n",
        "    self.assertEqual(get_prob_e_given_s_prime(Walls.END,(4,3)), 1)\r\n",
        "    self.assertEqual(get_prob_e_given_s_prime(Walls.END,(4,2)), 1)\r\n",
        "\r\n",
        "  def test_updateBeliefState_beforeAnyObservation_uniformProbabilityReturned(self):\r\n",
        "    initial_belief_state = np.ones((num_rows,num_cols))*(1/(num_rows*num_cols))\r\n",
        "\r\n",
        "    self.assertEqual(updateBeliefState(initial_belief_state,[],[]), initial_belief_state)\r\n",
        "  unittest.main(argv=[''], verbosity=2, exit=False)"
      ],
      "execution_count": null,
      "outputs": []
    }
  ]
}