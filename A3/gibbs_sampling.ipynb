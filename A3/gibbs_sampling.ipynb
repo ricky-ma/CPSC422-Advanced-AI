{
 "cells": [
  {
   "cell_type": "code",
   "execution_count": 36,
   "metadata": {},
   "outputs": [],
   "source": [
    "import random\n",
    "from matplotlib import pyplot as plt "
   ]
  },
  {
   "cell_type": "code",
   "execution_count": 69,
   "metadata": {},
   "outputs": [],
   "source": [
    "def prob_ab(A, B):\n",
    "    if not A and not B:\n",
    "        return 30\n",
    "    elif not A and B:\n",
    "        return 5\n",
    "    elif A and not B:\n",
    "        return 1\n",
    "    else:\n",
    "        return 10\n",
    "\n",
    "def prob_bc(B, C):\n",
    "    if not B and not C:\n",
    "        return 100\n",
    "    elif not B and C:\n",
    "        return 1\n",
    "    elif B and not C:\n",
    "        return 1\n",
    "    else:\n",
    "        return 100\n",
    "    \n",
    "def prob_cd(C, D):\n",
    "    if not C and not D:\n",
    "        return 1\n",
    "    elif not C and D:\n",
    "        return 100\n",
    "    elif C and not D:\n",
    "        return 100\n",
    "    else:\n",
    "        return 1\n",
    "    \n",
    "def prob_da(D, A):\n",
    "    if not D and not A:\n",
    "        return 100\n",
    "    elif not D and A:\n",
    "        return 1\n",
    "    elif D and not A:\n",
    "        return 1\n",
    "    else:\n",
    "        return 100\n",
    "\n",
    "def random_bool(v1, v2):\n",
    "    p = v1 / (v1 + v2)\n",
    "    return random.uniform(0, 1) <= p\n",
    "\n",
    "def next_variable(curr_variable):\n",
    "    variables = ['A', 'C', 'D']\n",
    "    return random.choice(variables)\n",
    "\n",
    "def sample_variable(curr_variable, A, B, C, D):\n",
    "    if curr_variable == 'A':\n",
    "        A0 = prob_ab(0, B) * prob_da(D, 0)\n",
    "        A1 = prob_ab(1, B) * prob_da(D, 1)\n",
    "        A = random_bool(A0, A1)\n",
    "    \n",
    "    elif curr_variable == 'D':\n",
    "        D0 = prob_cd(C, 0) * prob_da(0, A)\n",
    "        D1 = prob_cd(C, 1) * prob_da(1, A)\n",
    "        D = random_bool(D0, D1)\n",
    "    \n",
    "    elif curr_variable == 'C':\n",
    "        C0 = prob_cd(0, D) * prob_bc(B, 0)\n",
    "        C1 = prob_cd(1, D) * prob_bc(B, 1)\n",
    "        C = random_bool(C0, C1)\n",
    "    \n",
    "    return A, B, C, D\n",
    "      "
   ]
  },
  {
   "cell_type": "code",
   "execution_count": 73,
   "metadata": {},
   "outputs": [
    {
     "data": {
      "image/png": "[encoded data removed]",
      "text/plain": [
       "<Figure size 432x288 with 1 Axes>"
      ]
     },
     "metadata": {
      "needs_background": "light"
     },
     "output_type": "display_data"
    }
   ],
   "source": [
    "A1_count = 0\n",
    "A0_count = 0\n",
    "num_samples = 10000\n",
    "curr_variable = 'A'\n",
    "(A, B, C, D) = (True, True, True, True)\n",
    "\n",
    "pa0_givenb1 = []\n",
    "pa1_givenb1 = []\n",
    "for i in range(1,num_samples+1):\n",
    "    (A, B, C, D) = sample_variable(curr_variable, A, B, C, D)\n",
    "    if A:\n",
    "        A1_count += 1\n",
    "    else:\n",
    "        A0_count += 1\n",
    "    curr_variable = next_variable(curr_variable)\n",
    "    pa0_givenb1.append(A0_count / i)\n",
    "    pa1_givenb1.append(A1_count / i)\n",
    "    \n",
    "plt.title(\"Approximation of P(A|b=True) vs. number of samples used\") \n",
    "plt.xlabel(\"Number of samples used\") \n",
    "plt.ylabel(\"P(A|b=True)\") \n",
    "plt.plot(list(range(1,10001)), pa0_givenb1, label='Gibbs: P(A=F|B=T)')\n",
    "plt.plot(list(range(1,10001)), pa1_givenb1, label='Gibbs: P(A=T|B=T)')\n",
    "plt.axhline(y=0.05659, color='r', linestyle='-', label='VE: P(A=F|B=T)')\n",
    "plt.axhline(y=0.94341, color='g', linestyle='-', label='VE: P(A=T|B=T)')\n",
    "plt.legend()\n",
    "plt.show()"
   ]
  }
 ],
 "metadata": {
  "kernelspec": {
   "display_name": "Python 3",
   "language": "python",
   "name": "python3"
  },
  "language_info": {
   "codemirror_mode": {
    "name": "ipython",
    "version": 3
   },
   "file_extension": ".py",
   "mimetype": "text/x-python",
   "name": "python",
   "nbconvert_exporter": "python",
   "pygments_lexer": "ipython3",
   "version": "3.7.4"
  }
 },
 "nbformat": 4,
 "nbformat_minor": 2
}
